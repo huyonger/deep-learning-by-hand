{
 "cells": [
  {
   "cell_type": "code",
   "execution_count": 124,
   "id": "62fafa8e",
   "metadata": {},
   "outputs": [],
   "source": [
    "%matplotlib inline\n",
    "import torch\n",
    "import random\n",
    "from d2l import torch as d2l"
   ]
  },
  {
   "cell_type": "code",
   "execution_count": 125,
   "id": "0bda1426",
   "metadata": {},
   "outputs": [],
   "source": [
    "# 生产数据\n",
    "def synethetic_data(w, b, num_examples):\n",
    "    x = torch.normal(0, 1, (num_examples, len(w)))\n",
    "    y = torch.matmul(x, w) + b\n",
    "    y = y + torch.normal(0, 0.01, y.shape)\n",
    "    return x , y"
   ]
  },
  {
   "cell_type": "code",
   "execution_count": 126,
   "id": "83f94fec",
   "metadata": {},
   "outputs": [],
   "source": [
    "# batch_size data\n",
    "def data_iter(features, labels, batch_size):\n",
    "    num_examples = len(features)\n",
    "    indices = list(range(num_examples))\n",
    "    random.shuffle(indices)\n",
    "    for i in range(0, num_examples, batch_size):\n",
    "        batch_indices = torch.tensor(indices[i : min(i + batch_size, num_examples)])\n",
    "        yield features[batch_indices], labels[batch_indices]        "
   ]
  },
  {
   "cell_type": "code",
   "execution_count": 127,
   "id": "34f477dd",
   "metadata": {},
   "outputs": [
    {
     "name": "stdout",
     "output_type": "stream",
     "text": [
      "torch.Size([10, 2])\n",
      "torch.Size([10, 1])\n"
     ]
    }
   ],
   "source": [
    "for x , y in data_iter(features, labels, 10):\n",
    "    print(x.shape)\n",
    "    print(y.shape)\n",
    "    break"
   ]
  },
  {
   "cell_type": "code",
   "execution_count": 128,
   "id": "c1a80399",
   "metadata": {},
   "outputs": [],
   "source": [
    "# 线性模型\n",
    "def linreg(w, b, x):\n",
    "    return torch.matmul(x, w) + b"
   ]
  },
  {
   "cell_type": "code",
   "execution_count": 129,
   "id": "15b99599",
   "metadata": {},
   "outputs": [],
   "source": [
    "# 损失函数\n",
    "def squared_loss(y, y_hat):\n",
    "    return (y - y_hat) ** 2 / 2"
   ]
  },
  {
   "cell_type": "code",
   "execution_count": 130,
   "id": "07becb1e",
   "metadata": {},
   "outputs": [],
   "source": [
    "def sgd(params, lr, batch_size):  #@save\n",
    "    \"\"\"小批量随机梯度下降\"\"\"\n",
    "    with torch.no_grad():\n",
    "        for param in params:\n",
    "            param -= lr * param.grad / batch_size\n",
    "            param.grad.zero_()"
   ]
  },
  {
   "cell_type": "code",
   "execution_count": 153,
   "id": "4672804f",
   "metadata": {},
   "outputs": [
    {
     "name": "stdout",
     "output_type": "stream",
     "text": [
      "epoch 0, loss 8.643382898299024e-05\n",
      "epoch 1, loss 4.84566880913917e-05\n",
      "epoch 2, loss 5.4561813158215955e-05\n",
      "epoch 3, loss 6.973880954319611e-05\n",
      "epoch 4, loss 7.778970757499337e-05\n",
      "epoch 5, loss 6.0252037656027824e-05\n",
      "epoch 6, loss 5.9761096053989604e-05\n",
      "epoch 7, loss 5.2243303798604757e-05\n",
      "epoch 8, loss 6.297496292972937e-05\n",
      "epoch 9, loss 4.928092675982043e-05\n"
     ]
    }
   ],
   "source": [
    "w = torch.normal(0, 0.01, size=(2,1), requires_grad=True)\n",
    "b = torch.zeros(1, requires_grad=True)\n",
    "true_w = torch.tensor([[2], [-3.4]])\n",
    "true_b = torch.tensor([4.2])\n",
    "features, labels = synthetic_data(true_w, true_b, 1000)\n",
    "\n",
    "lr = 1\n",
    "num_epochs = 10\n",
    "net = linreg\n",
    "loss = squared_loss\n",
    "batch_size = 10\n",
    "\n",
    "for epoch in range(num_epochs):\n",
    "    for x , y in data_iter(features, labels, batch_size):\n",
    "        l = loss(net(w, b, x), y)\n",
    "        l.sum().backward()\n",
    "        sgd([w, b], lr, batch_size)  # 使用参数的梯度更新参数\n",
    "    with torch.no_grad():\n",
    "        train_l = loss(net(w, b, features), labels)\n",
    "        print('epoch {}, loss {}'.format(epoch, train_l.mean()))"
   ]
  },
  {
   "cell_type": "code",
   "execution_count": 151,
   "id": "96a1a0cf",
   "metadata": {},
   "outputs": [
    {
     "name": "stdout",
     "output_type": "stream",
     "text": [
      "w的估计误差: tensor([[ 0.0026],\n",
      "        [-0.0018]], grad_fn=<SubBackward0>)\n",
      "b的估计误差: tensor([0.0002], grad_fn=<SubBackward0>)\n"
     ]
    }
   ],
   "source": [
    "print(f'w的估计误差: {true_w - w}')\n",
    "print(f'b的估计误差: {true_b - b}')"
   ]
  },
  {
   "cell_type": "code",
   "execution_count": null,
   "id": "b0d8eb9e",
   "metadata": {},
   "outputs": [],
   "source": []
  }
 ],
 "metadata": {
  "kernelspec": {
   "display_name": "Python 3",
   "language": "python",
   "name": "python3"
  },
  "language_info": {
   "codemirror_mode": {
    "name": "ipython",
    "version": 3
   },
   "file_extension": ".py",
   "mimetype": "text/x-python",
   "name": "python",
   "nbconvert_exporter": "python",
   "pygments_lexer": "ipython3",
   "version": "3.8.8"
  }
 },
 "nbformat": 4,
 "nbformat_minor": 5
}
