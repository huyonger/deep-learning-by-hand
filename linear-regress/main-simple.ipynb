{
 "cells": [
  {
   "cell_type": "code",
   "execution_count": 3,
   "id": "a8dd231c",
   "metadata": {},
   "outputs": [],
   "source": [
    "import torch\n",
    "from torch import nn\n",
    "from d2l import torch as d2l\n",
    "from torch.utils import data"
   ]
  },
  {
   "cell_type": "code",
   "execution_count": 5,
   "id": "0818e67f",
   "metadata": {},
   "outputs": [],
   "source": [
    "true_w = torch.tensor([[2], [-3.4]])\n",
    "true_b = torch.tensor([4.2])\n",
    "features, labels = d2l.synthetic_data(true_w, true_b, 1000)"
   ]
  },
  {
   "cell_type": "code",
   "execution_count": 7,
   "id": "8e79b550",
   "metadata": {},
   "outputs": [],
   "source": [
    "def load_array(data_arrays, batch_size, is_train = True):\n",
    "    dataset = data.TensorDataset(*data_arrays)\n",
    "    return data.DataLoader(dataset, batch_size, shuffle = is_train)\n",
    "batch_size = 10\n",
    "data_iter = load_array((features, labels), batch_size)"
   ]
  },
  {
   "cell_type": "code",
   "execution_count": 9,
   "id": "cd0c21ae",
   "metadata": {},
   "outputs": [
    {
     "data": {
      "text/plain": [
       "tensor([0.])"
      ]
     },
     "execution_count": 9,
     "metadata": {},
     "output_type": "execute_result"
    }
   ],
   "source": [
    "net = nn.Sequential(nn.Linear(2, 1))\n",
    "net[0].weight.data.normal_(0, 0.01)\n",
    "net[0].bias.data.fill_(0)"
   ]
  },
  {
   "cell_type": "code",
   "execution_count": 10,
   "id": "cbea7289",
   "metadata": {},
   "outputs": [],
   "source": [
    "loss = nn.MSELoss()\n",
    "trainer = torch.optim.SGD(net.parameters(), lr = 0.03)"
   ]
  },
  {
   "cell_type": "code",
   "execution_count": 12,
   "id": "47f8e240",
   "metadata": {},
   "outputs": [
    {
     "name": "stdout",
     "output_type": "stream",
     "text": [
      "epoch 0, loss 0.0002828364376910031\n",
      "epoch 1, loss 9.977445733966306e-05\n",
      "epoch 2, loss 9.984525240724906e-05\n"
     ]
    }
   ],
   "source": [
    "num_epoches = 3\n",
    "for epoch in range(num_epoches):\n",
    "    for x, y in data_iter:\n",
    "        l = loss(net(x), y)\n",
    "        l.backward()\n",
    "        trainer.step()\n",
    "        trainer.zero_grad()\n",
    "    train_l = loss(net(features), labels)\n",
    "    print('epoch {}, loss {}'.format(epoch, train_l))"
   ]
  },
  {
   "cell_type": "code",
   "execution_count": 13,
   "id": "821a560f",
   "metadata": {},
   "outputs": [
    {
     "name": "stdout",
     "output_type": "stream",
     "text": [
      "w的估计误差： tensor([[-0.0009],\n",
      "        [-0.0012]])\n",
      "b的估计误差： tensor([1.4305e-06])\n"
     ]
    }
   ],
   "source": [
    "w = net[0].weight.data\n",
    "print('w的估计误差：', true_w - w.reshape(true_w.shape))\n",
    "b = net[0].bias.data\n",
    "print('b的估计误差：', true_b - b)"
   ]
  }
 ],
 "metadata": {
  "kernelspec": {
   "display_name": "Python 3",
   "language": "python",
   "name": "python3"
  },
  "language_info": {
   "codemirror_mode": {
    "name": "ipython",
    "version": 3
   },
   "file_extension": ".py",
   "mimetype": "text/x-python",
   "name": "python",
   "nbconvert_exporter": "python",
   "pygments_lexer": "ipython3",
   "version": "3.8.8"
  }
 },
 "nbformat": 4,
 "nbformat_minor": 5
}
